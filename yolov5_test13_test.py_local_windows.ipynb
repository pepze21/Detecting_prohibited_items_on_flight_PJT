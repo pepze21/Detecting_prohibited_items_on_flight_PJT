{
 "cells": [
  {
   "cell_type": "code",
   "execution_count": 1,
   "id": "57a7d2e8",
   "metadata": {},
   "outputs": [],
   "source": [
    "from glob import glob\n",
    "import yaml\n",
    "import os\n",
    "from IPython.display import Image\n",
    "import matplotlib.image as img\n",
    "import matplotlib.pyplot as plt"
   ]
  },
  {
   "cell_type": "code",
   "execution_count": null,
   "id": "8951fd5c",
   "metadata": {},
   "outputs": [],
   "source": []
  },
  {
   "cell_type": "code",
   "execution_count": 2,
   "id": "bcd7957a",
   "metadata": {},
   "outputs": [
    {
     "data": {
      "text/plain": [
       "'C:\\\\Users\\\\2020\\\\Detecting_prohibited_items_on_flight_PJT'"
      ]
     },
     "execution_count": 2,
     "metadata": {},
     "output_type": "execute_result"
    }
   ],
   "source": [
    "%pwd"
   ]
  },
  {
   "cell_type": "code",
   "execution_count": 3,
   "id": "e5fabefd",
   "metadata": {},
   "outputs": [
    {
     "name": "stdout",
     "output_type": "stream",
     "text": [
      "C:\\Users\\2020\n"
     ]
    }
   ],
   "source": [
    "%cd .."
   ]
  },
  {
   "cell_type": "code",
   "execution_count": 4,
   "id": "b905dcc5",
   "metadata": {},
   "outputs": [
    {
     "name": "stdout",
     "output_type": "stream",
     "text": [
      "C:\\Users\\2020\\yolov5\n"
     ]
    }
   ],
   "source": [
    "%cd yolov5"
   ]
  },
  {
   "cell_type": "markdown",
   "id": "certified-fiber",
   "metadata": {},
   "source": [
    "### Detect (Inference)\n",
    ".jpg 파일의 detect 결과는 home/ubuntu/yolov5/runs/detect/exp 폴더에 .jpg 형태로 저장됨"
   ]
  },
  {
   "cell_type": "code",
   "execution_count": null,
   "id": "anticipated-middle",
   "metadata": {
    "scrolled": true
   },
   "outputs": [],
   "source": [
    "!python test.py --weights yolov5s.pt --img 384 --conf 0.1 --source C:\\\\Users\\\\2020\\\\yolov5\\\\data\\\\images\\\\lighter_sample_video.mp4"
   ]
  },
  {
   "cell_type": "code",
   "execution_count": 9,
   "id": "2b81230f",
   "metadata": {},
   "outputs": [
    {
     "name": "stdout",
     "output_type": "stream",
     "text": [
      "3 knife \r\n",
      "173 1071 955 1411 0 \r\n",
      "335 201 675 755 0 \r\n",
      "495 12 918 1196 0 \r\n"
     ]
    }
   ],
   "source": [
    "!cat ./runs/detect/exp28/KakaoTalk_20211112_170828797_01.txt"
   ]
  }
 ],
 "metadata": {
  "kernelspec": {
   "display_name": "Python 3",
   "language": "python",
   "name": "python3"
  },
  "language_info": {
   "codemirror_mode": {
    "name": "ipython",
    "version": 3
   },
   "file_extension": ".py",
   "mimetype": "text/x-python",
   "name": "python",
   "nbconvert_exporter": "python",
   "pygments_lexer": "ipython3",
   "version": "3.8.8"
  }
 },
 "nbformat": 4,
 "nbformat_minor": 5
}
