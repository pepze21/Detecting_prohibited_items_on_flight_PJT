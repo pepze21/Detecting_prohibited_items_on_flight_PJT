{
 "cells": [
  {
   "cell_type": "code",
   "execution_count": 1,
   "id": "57a7d2e8",
   "metadata": {},
   "outputs": [],
   "source": [
    "from glob import glob\n",
    "import yaml\n",
    "import os\n",
    "from IPython.display import Image\n",
    "import matplotlib.image as img\n",
    "import matplotlib.pyplot as plt"
   ]
  },
  {
   "cell_type": "code",
   "execution_count": null,
   "id": "8951fd5c",
   "metadata": {},
   "outputs": [],
   "source": []
  },
  {
   "cell_type": "code",
   "execution_count": 2,
   "id": "bcd7957a",
   "metadata": {},
   "outputs": [
    {
     "data": {
      "text/plain": [
       "'C:\\\\Users\\\\2020\\\\Detecting_prohibited_items_on_flight_PJT'"
      ]
     },
     "execution_count": 2,
     "metadata": {},
     "output_type": "execute_result"
    }
   ],
   "source": [
    "%pwd"
   ]
  },
  {
   "cell_type": "code",
   "execution_count": 3,
   "id": "e5fabefd",
   "metadata": {},
   "outputs": [
    {
     "name": "stdout",
     "output_type": "stream",
     "text": [
      "C:\\Users\\2020\n"
     ]
    }
   ],
   "source": [
    "%cd .."
   ]
  },
  {
   "cell_type": "code",
   "execution_count": 4,
   "id": "b905dcc5",
   "metadata": {},
   "outputs": [
    {
     "name": "stdout",
     "output_type": "stream",
     "text": [
      "C:\\Users\\2020\\yolov5\n"
     ]
    }
   ],
   "source": [
    "%cd yolov5"
   ]
  },
  {
   "cell_type": "markdown",
   "id": "certified-fiber",
   "metadata": {},
   "source": [
    "### Detect (Inference)\n",
    ".jpg 파일의 detect 결과는 home/ubuntu/yolov5/runs/detect/exp 폴더에 .jpg 형태로 저장됨"
   ]
  },
  {
   "cell_type": "code",
   "execution_count": 6,
   "id": "anticipated-middle",
   "metadata": {
    "scrolled": true
   },
   "outputs": [
    {
     "name": "stdout",
     "output_type": "stream",
     "text": [
      "\u001b[34m\u001b[1mdetect: \u001b[0mweights=['/home/ubuntu/yolov5/runs/train/prohibited_items_on_board_s944/weights/best.pt'], source=/home/ubuntu/yolov5/data/images/knife_sample_video.mp4, imgsz=[512, 512], conf_thres=0.1, iou_thres=0.45, max_det=1000, device=, view_img=False, save_txt=False, save_conf=False, save_crop=False, nosave=False, classes=None, agnostic_nms=False, augment=False, visualize=False, update=False, project=runs\\detect, name=exp, exist_ok=False, line_thickness=3, hide_labels=False, hide_conf=False, half=False, dnn=False\n",
      "/home/ubuntu/yolov5/data/images/knife_sample_video.mp4\n",
      "/home/ubuntu/yolov5/data/images/knife_sample_video.mp4\n",
      "/home/ubuntu/yolov5/data/images/knife_sample_video.mp4\n",
      "/home/ubuntu/yolov5/data/images/knife_sample_video.mp4\n"
     ]
    },
    {
     "name": "stderr",
     "output_type": "stream",
     "text": [
      "YOLOv5  v6.0-35-ga4fece8 torch 1.10.0+cpu CPU\n",
      "\n",
      "Traceback (most recent call last):\n",
      "  File \"detect.py\", line 312, in <module>\n",
      "    main(opt)\n",
      "  File \"detect.py\", line 307, in main\n",
      "    run(**vars(opt))\n",
      "  File \"C:\\ProgramData\\Anaconda3\\lib\\site-packages\\torch\\autograd\\grad_mode.py\", line 28, in decorate_context\n",
      "    return func(*args, **kwargs)\n",
      "  File \"detect.py\", line 87, in run\n",
      "    model = torch.jit.load(w) if 'torchscript' in w else attempt_load(weights, map_location=device)\n",
      "  File \"C:\\Users\\2020\\yolov5\\models\\experimental.py\", line 94, in attempt_load\n",
      "    ckpt = torch.load(attempt_download(w), map_location=map_location)  # load\n",
      "  File \"C:\\ProgramData\\Anaconda3\\lib\\site-packages\\torch\\serialization.py\", line 594, in load\n",
      "    with _open_file_like(f, 'rb') as opened_file:\n",
      "  File \"C:\\ProgramData\\Anaconda3\\lib\\site-packages\\torch\\serialization.py\", line 230, in _open_file_like\n",
      "    return _open_file(name_or_buffer, mode)\n",
      "  File \"C:\\ProgramData\\Anaconda3\\lib\\site-packages\\torch\\serialization.py\", line 211, in __init__\n",
      "    super(_open_file, self).__init__(open(name, mode))\n",
      "FileNotFoundError: [Errno 2] No such file or directory: '\\\\home\\\\ubuntu\\\\yolov5\\\\runs\\\\train\\\\prohibited_items_on_board_s944\\\\weights\\\\best.pt'\n"
     ]
    }
   ],
   "source": [
    "!python detect.py --weights C:\\Users\\2020\\yolov5\\best.pt --img 512 --conf 0.1 --source C:\\Users\\2020\\yolov5\\data\\images\\knife_sample_video.mp4"
   ]
  },
  {
   "cell_type": "code",
   "execution_count": 6,
   "id": "194884e3",
   "metadata": {},
   "outputs": [
    {
     "name": "stdout",
     "output_type": "stream",
     "text": [
      "\u001b[34m\u001b[1mdetect: \u001b[0mweights=['C:\\\\Users\\\\2020\\\\yolov5\\\\best.pt'], source=C:\\Users\\2020\\yolov5\\data\\images\\knife_sample_video2.mp4, imgsz=[512, 512], conf_thres=0.1, iou_thres=0.45, max_det=1000, device=, view_img=False, save_txt=False, save_conf=False, save_crop=False, nosave=False, classes=None, agnostic_nms=False, augment=False, visualize=False, update=False, project=runs\\detect, name=exp, exist_ok=False, line_thickness=3, hide_labels=False, hide_conf=False, half=False, dnn=False\n",
      "C:\\Users\\2020\\yolov5\\data\\images\\knife_sample_video2.mp4\n",
      "C:\\Users\\2020\\yolov5\\data\\images\\knife_sample_video2.mp4\n",
      "C:\\Users\\2020\\yolov5\\data\\images\\knife_sample_video2.mp4\n",
      "C:\\Users\\2020\\yolov5\\data\\images\\knife_sample_video2.mp4\n",
      "video 1/1 (1/203) C:\\Users\\2020\\yolov5\\data\\images\\knife_sample_video2.mp4: 512x416 Done. (0.116s)\n",
      "video 1/1 (2/203) C:\\Users\\2020\\yolov5\\data\\images\\knife_sample_video2.mp4: 512x416 1 knife, Done. (0.106s)\n",
      "video 1/1 (3/203) C:\\Users\\2020\\yolov5\\data\\images\\knife_sample_video2.mp4: 512x416 1 knife, Done. (0.102s)\n",
      "video 1/1 (4/203) C:\\Users\\2020\\yolov5\\data\\images\\knife_sample_video2.mp4: 512x416 1 knife, Done. (0.103s)\n",
      "video 1/1 (5/203) C:\\Users\\2020\\yolov5\\data\\images\\knife_sample_video2.mp4: 512x416 1 knife, Done. (0.112s)\n",
      "video 1/1 (6/203) C:\\Users\\2020\\yolov5\\data\\images\\knife_sample_video2.mp4: 512x416 1 knife, Done. (0.112s)\n",
      "video 1/1 (7/203) C:\\Users\\2020\\yolov5\\data\\images\\knife_sample_video2.mp4: 512x416 1 knife, Done. (0.106s)\n",
      "video 1/1 (8/203) C:\\Users\\2020\\yolov5\\data\\images\\knife_sample_video2.mp4: 512x416 1 knife, Done. (0.106s)\n",
      "video 1/1 (9/203) C:\\Users\\2020\\yolov5\\data\\images\\knife_sample_video2.mp4: 512x416 1 knife, Done. (0.107s)\n",
      "video 1/1 (10/203) C:\\Users\\2020\\yolov5\\data\\images\\knife_sample_video2.mp4: 512x416 1 knife, Done. (0.106s)\n",
      "video 1/1 (11/203) C:\\Users\\2020\\yolov5\\data\\images\\knife_sample_video2.mp4: 512x416 1 knife, Done. (0.104s)\n",
      "video 1/1 (12/203) C:\\Users\\2020\\yolov5\\data\\images\\knife_sample_video2.mp4: 512x416 1 knife, Done. (0.107s)\n",
      "video 1/1 (13/203) C:\\Users\\2020\\yolov5\\data\\images\\knife_sample_video2.mp4: 512x416 1 knife, Done. (0.114s)\n",
      "video 1/1 (14/203) C:\\Users\\2020\\yolov5\\data\\images\\knife_sample_video2.mp4: 512x416 1 knife, Done. (0.114s)\n",
      "video 1/1 (15/203) C:\\Users\\2020\\yolov5\\data\\images\\knife_sample_video2.mp4: 512x416 1 knife, Done. (0.103s)\n",
      "video 1/1 (16/203) C:\\Users\\2020\\yolov5\\data\\images\\knife_sample_video2.mp4: 512x416 1 knife, Done. (0.111s)\n",
      "video 1/1 (17/203) C:\\Users\\2020\\yolov5\\data\\images\\knife_sample_video2.mp4: 512x416 1 knife, Done. (0.129s)\n",
      "video 1/1 (18/203) C:\\Users\\2020\\yolov5\\data\\images\\knife_sample_video2.mp4: 512x416 1 knife, Done. (0.118s)\n",
      "video 1/1 (19/203) C:\\Users\\2020\\yolov5\\data\\images\\knife_sample_video2.mp4: 512x416 1 knife, Done. (0.117s)\n",
      "video 1/1 (20/203) C:\\Users\\2020\\yolov5\\data\\images\\knife_sample_video2.mp4: 512x416 1 knife, Done. (0.108s)\n",
      "video 1/1 (21/203) C:\\Users\\2020\\yolov5\\data\\images\\knife_sample_video2.mp4: 512x416 1 knife, Done. (0.116s)\n",
      "video 1/1 (22/203) C:\\Users\\2020\\yolov5\\data\\images\\knife_sample_video2.mp4: 512x416 Done. (0.118s)\n",
      "video 1/1 (23/203) C:\\Users\\2020\\yolov5\\data\\images\\knife_sample_video2.mp4: 512x416 Done. (0.105s)\n",
      "video 1/1 (24/203) C:\\Users\\2020\\yolov5\\data\\images\\knife_sample_video2.mp4: 512x416 1 knife, Done. (0.115s)\n",
      "video 1/1 (25/203) C:\\Users\\2020\\yolov5\\data\\images\\knife_sample_video2.mp4: 512x416 1 knife, Done. (0.119s)\n",
      "video 1/1 (26/203) C:\\Users\\2020\\yolov5\\data\\images\\knife_sample_video2.mp4: 512x416 1 knife, Done. (0.140s)\n",
      "video 1/1 (27/203) C:\\Users\\2020\\yolov5\\data\\images\\knife_sample_video2.mp4: 512x416 1 knife, Done. (0.140s)\n",
      "video 1/1 (28/203) C:\\Users\\2020\\yolov5\\data\\images\\knife_sample_video2.mp4: 512x416 Done. (0.117s)\n",
      "video 1/1 (29/203) C:\\Users\\2020\\yolov5\\data\\images\\knife_sample_video2.mp4: 512x416 1 knife, Done. (0.114s)\n",
      "video 1/1 (30/203) C:\\Users\\2020\\yolov5\\data\\images\\knife_sample_video2.mp4: 512x416 1 knife, Done. (0.106s)\n",
      "video 1/1 (31/203) C:\\Users\\2020\\yolov5\\data\\images\\knife_sample_video2.mp4: 512x416 1 knife, Done. (0.104s)\n",
      "video 1/1 (32/203) C:\\Users\\2020\\yolov5\\data\\images\\knife_sample_video2.mp4: 512x416 1 knife, Done. (0.106s)\n",
      "video 1/1 (33/203) C:\\Users\\2020\\yolov5\\data\\images\\knife_sample_video2.mp4: 512x416 1 knife, Done. (0.104s)\n",
      "video 1/1 (34/203) C:\\Users\\2020\\yolov5\\data\\images\\knife_sample_video2.mp4: 512x416 Done. (0.107s)\n",
      "video 1/1 (35/203) C:\\Users\\2020\\yolov5\\data\\images\\knife_sample_video2.mp4: 512x416 Done. (0.101s)\n",
      "video 1/1 (36/203) C:\\Users\\2020\\yolov5\\data\\images\\knife_sample_video2.mp4: 512x416 Done. (0.110s)\n"
     ]
    },
    {
     "name": "stderr",
     "output_type": "stream",
     "text": [
      "YOLOv5  v6.0-35-ga4fece8 torch 1.10.0+cpu CPU\n",
      "\n",
      "Fusing layers... \n",
      "C:\\ProgramData\\Anaconda3\\lib\\site-packages\\torch\\functional.py:445: UserWarning: torch.meshgrid: in an upcoming release, it will be required to pass the indexing argument. (Triggered internally at  ..\\aten\\src\\ATen\\native\\TensorShape.cpp:2157.)\n",
      "  return _VF.meshgrid(tensors, **kwargs)  # type: ignore[attr-defined]\n",
      "Model Summary: 213 layers, 7023610 parameters, 0 gradients, 15.8 GFLOPs\n"
     ]
    },
    {
     "name": "stdout",
     "output_type": "stream",
     "text": [
      "video 1/1 (37/203) C:\\Users\\2020\\yolov5\\data\\images\\knife_sample_video2.mp4: 512x416 1 knife, Done. (0.112s)\n",
      "video 1/1 (38/203) C:\\Users\\2020\\yolov5\\data\\images\\knife_sample_video2.mp4: 512x416 1 knife, Done. (0.106s)\n",
      "video 1/1 (39/203) C:\\Users\\2020\\yolov5\\data\\images\\knife_sample_video2.mp4: 512x416 1 knife, Done. (0.102s)\n",
      "video 1/1 (40/203) C:\\Users\\2020\\yolov5\\data\\images\\knife_sample_video2.mp4: 512x416 1 knife, Done. (0.105s)\n",
      "video 1/1 (41/203) C:\\Users\\2020\\yolov5\\data\\images\\knife_sample_video2.mp4: 512x416 1 knife, Done. (0.119s)\n",
      "video 1/1 (42/203) C:\\Users\\2020\\yolov5\\data\\images\\knife_sample_video2.mp4: 512x416 1 knife, Done. (0.119s)\n",
      "video 1/1 (43/203) C:\\Users\\2020\\yolov5\\data\\images\\knife_sample_video2.mp4: 512x416 1 knife, Done. (0.105s)\n",
      "video 1/1 (44/203) C:\\Users\\2020\\yolov5\\data\\images\\knife_sample_video2.mp4: 512x416 1 knife, Done. (0.126s)\n",
      "video 1/1 (45/203) C:\\Users\\2020\\yolov5\\data\\images\\knife_sample_video2.mp4: 512x416 1 knife, Done. (0.129s)\n",
      "video 1/1 (46/203) C:\\Users\\2020\\yolov5\\data\\images\\knife_sample_video2.mp4: 512x416 1 knife, Done. (0.115s)\n",
      "video 1/1 (47/203) C:\\Users\\2020\\yolov5\\data\\images\\knife_sample_video2.mp4: 512x416 1 knife, Done. (0.113s)\n",
      "video 1/1 (48/203) C:\\Users\\2020\\yolov5\\data\\images\\knife_sample_video2.mp4: 512x416 1 knife, Done. (0.115s)\n",
      "video 1/1 (49/203) C:\\Users\\2020\\yolov5\\data\\images\\knife_sample_video2.mp4: 512x416 1 knife, Done. (0.114s)\n",
      "video 1/1 (50/203) C:\\Users\\2020\\yolov5\\data\\images\\knife_sample_video2.mp4: 512x416 1 knife, Done. (0.112s)\n",
      "video 1/1 (51/203) C:\\Users\\2020\\yolov5\\data\\images\\knife_sample_video2.mp4: 512x416 1 knife, Done. (0.110s)\n",
      "video 1/1 (52/203) C:\\Users\\2020\\yolov5\\data\\images\\knife_sample_video2.mp4: 512x416 1 knife, Done. (0.115s)\n",
      "video 1/1 (53/203) C:\\Users\\2020\\yolov5\\data\\images\\knife_sample_video2.mp4: 512x416 1 knife, Done. (0.114s)\n",
      "video 1/1 (54/203) C:\\Users\\2020\\yolov5\\data\\images\\knife_sample_video2.mp4: 512x416 1 knife, Done. (0.109s)\n",
      "video 1/1 (55/203) C:\\Users\\2020\\yolov5\\data\\images\\knife_sample_video2.mp4: 512x416 1 knife, Done. (0.109s)\n",
      "video 1/1 (56/203) C:\\Users\\2020\\yolov5\\data\\images\\knife_sample_video2.mp4: 512x416 1 knife, Done. (0.118s)\n",
      "video 1/1 (57/203) C:\\Users\\2020\\yolov5\\data\\images\\knife_sample_video2.mp4: 512x416 1 knife, Done. (0.105s)\n",
      "video 1/1 (58/203) C:\\Users\\2020\\yolov5\\data\\images\\knife_sample_video2.mp4: 512x416 1 knife, Done. (0.108s)\n",
      "video 1/1 (59/203) C:\\Users\\2020\\yolov5\\data\\images\\knife_sample_video2.mp4: 512x416 1 knife, Done. (0.110s)\n",
      "video 1/1 (60/203) C:\\Users\\2020\\yolov5\\data\\images\\knife_sample_video2.mp4: 512x416 1 knife, Done. (0.115s)\n",
      "video 1/1 (61/203) C:\\Users\\2020\\yolov5\\data\\images\\knife_sample_video2.mp4: 512x416 1 knife, Done. (0.104s)\n",
      "video 1/1 (62/203) C:\\Users\\2020\\yolov5\\data\\images\\knife_sample_video2.mp4: 512x416 1 knife, Done. (0.104s)\n",
      "video 1/1 (63/203) C:\\Users\\2020\\yolov5\\data\\images\\knife_sample_video2.mp4: 512x416 1 knife, Done. (0.113s)\n",
      "video 1/1 (64/203) C:\\Users\\2020\\yolov5\\data\\images\\knife_sample_video2.mp4: 512x416 1 knife, Done. (0.126s)\n",
      "video 1/1 (65/203) C:\\Users\\2020\\yolov5\\data\\images\\knife_sample_video2.mp4: 512x416 1 knife, Done. (0.103s)\n",
      "video 1/1 (66/203) C:\\Users\\2020\\yolov5\\data\\images\\knife_sample_video2.mp4: 512x416 1 knife, Done. (0.121s)\n",
      "video 1/1 (67/203) C:\\Users\\2020\\yolov5\\data\\images\\knife_sample_video2.mp4: 512x416 1 knife, Done. (0.166s)\n",
      "video 1/1 (68/203) C:\\Users\\2020\\yolov5\\data\\images\\knife_sample_video2.mp4: 512x416 1 knife, Done. (0.118s)\n",
      "video 1/1 (69/203) C:\\Users\\2020\\yolov5\\data\\images\\knife_sample_video2.mp4: 512x416 1 knife, Done. (0.113s)\n",
      "video 1/1 (70/203) C:\\Users\\2020\\yolov5\\data\\images\\knife_sample_video2.mp4: 512x416 1 knife, Done. (0.111s)\n",
      "video 1/1 (71/203) C:\\Users\\2020\\yolov5\\data\\images\\knife_sample_video2.mp4: 512x416 1 knife, Done. (0.105s)\n",
      "video 1/1 (72/203) C:\\Users\\2020\\yolov5\\data\\images\\knife_sample_video2.mp4: 512x416 1 knife, Done. (0.104s)\n",
      "video 1/1 (73/203) C:\\Users\\2020\\yolov5\\data\\images\\knife_sample_video2.mp4: 512x416 1 knife, Done. (0.119s)\n",
      "video 1/1 (74/203) C:\\Users\\2020\\yolov5\\data\\images\\knife_sample_video2.mp4: 512x416 1 knife, Done. (0.109s)\n",
      "video 1/1 (75/203) C:\\Users\\2020\\yolov5\\data\\images\\knife_sample_video2.mp4: 512x416 1 knife, Done. (0.116s)\n",
      "video 1/1 (76/203) C:\\Users\\2020\\yolov5\\data\\images\\knife_sample_video2.mp4: 512x416 1 knife, Done. (0.105s)\n",
      "video 1/1 (77/203) C:\\Users\\2020\\yolov5\\data\\images\\knife_sample_video2.mp4: 512x416 1 knife, Done. (0.109s)\n",
      "video 1/1 (78/203) C:\\Users\\2020\\yolov5\\data\\images\\knife_sample_video2.mp4: 512x416 1 knife, Done. (0.108s)\n",
      "video 1/1 (79/203) C:\\Users\\2020\\yolov5\\data\\images\\knife_sample_video2.mp4: 512x416 1 knife, Done. (0.105s)\n",
      "video 1/1 (80/203) C:\\Users\\2020\\yolov5\\data\\images\\knife_sample_video2.mp4: 512x416 1 knife, Done. (0.120s)\n",
      "video 1/1 (81/203) C:\\Users\\2020\\yolov5\\data\\images\\knife_sample_video2.mp4: 512x416 1 knife, Done. (0.118s)\n",
      "video 1/1 (82/203) C:\\Users\\2020\\yolov5\\data\\images\\knife_sample_video2.mp4: 512x416 1 knife, Done. (0.116s)\n",
      "video 1/1 (83/203) C:\\Users\\2020\\yolov5\\data\\images\\knife_sample_video2.mp4: 512x416 1 knife, Done. (0.118s)\n",
      "video 1/1 (84/203) C:\\Users\\2020\\yolov5\\data\\images\\knife_sample_video2.mp4: 512x416 1 knife, Done. (0.104s)\n",
      "video 1/1 (85/203) C:\\Users\\2020\\yolov5\\data\\images\\knife_sample_video2.mp4: 512x416 1 knife, Done. (0.105s)\n",
      "video 1/1 (86/203) C:\\Users\\2020\\yolov5\\data\\images\\knife_sample_video2.mp4: 512x416 1 knife, Done. (0.101s)\n",
      "video 1/1 (87/203) C:\\Users\\2020\\yolov5\\data\\images\\knife_sample_video2.mp4: 512x416 1 knife, Done. (0.105s)\n",
      "video 1/1 (88/203) C:\\Users\\2020\\yolov5\\data\\images\\knife_sample_video2.mp4: 512x416 1 knife, Done. (0.102s)\n",
      "video 1/1 (89/203) C:\\Users\\2020\\yolov5\\data\\images\\knife_sample_video2.mp4: 512x416 1 knife, Done. (0.103s)\n",
      "video 1/1 (90/203) C:\\Users\\2020\\yolov5\\data\\images\\knife_sample_video2.mp4: 512x416 1 knife, Done. (0.113s)\n",
      "video 1/1 (91/203) C:\\Users\\2020\\yolov5\\data\\images\\knife_sample_video2.mp4: 512x416 1 knife, Done. (0.117s)\n",
      "video 1/1 (92/203) C:\\Users\\2020\\yolov5\\data\\images\\knife_sample_video2.mp4: 512x416 1 knife, Done. (0.106s)\n",
      "video 1/1 (93/203) C:\\Users\\2020\\yolov5\\data\\images\\knife_sample_video2.mp4: 512x416 1 knife, Done. (0.107s)\n",
      "video 1/1 (94/203) C:\\Users\\2020\\yolov5\\data\\images\\knife_sample_video2.mp4: 512x416 1 knife, Done. (0.104s)\n",
      "video 1/1 (95/203) C:\\Users\\2020\\yolov5\\data\\images\\knife_sample_video2.mp4: 512x416 1 knife, Done. (0.107s)\n",
      "video 1/1 (96/203) C:\\Users\\2020\\yolov5\\data\\images\\knife_sample_video2.mp4: 512x416 1 knife, Done. (0.104s)\n",
      "video 1/1 (97/203) C:\\Users\\2020\\yolov5\\data\\images\\knife_sample_video2.mp4: 512x416 1 knife, Done. (0.104s)\n",
      "video 1/1 (98/203) C:\\Users\\2020\\yolov5\\data\\images\\knife_sample_video2.mp4: 512x416 1 knife, Done. (0.112s)\n",
      "video 1/1 (99/203) C:\\Users\\2020\\yolov5\\data\\images\\knife_sample_video2.mp4: 512x416 1 knife, Done. (0.116s)\n",
      "video 1/1 (100/203) C:\\Users\\2020\\yolov5\\data\\images\\knife_sample_video2.mp4: 512x416 1 knife, Done. (0.107s)\n",
      "video 1/1 (101/203) C:\\Users\\2020\\yolov5\\data\\images\\knife_sample_video2.mp4: 512x416 1 knife, Done. (0.123s)\n",
      "video 1/1 (102/203) C:\\Users\\2020\\yolov5\\data\\images\\knife_sample_video2.mp4: 512x416 1 knife, Done. (0.115s)\n",
      "video 1/1 (103/203) C:\\Users\\2020\\yolov5\\data\\images\\knife_sample_video2.mp4: 512x416 1 knife, Done. (0.105s)\n",
      "video 1/1 (104/203) C:\\Users\\2020\\yolov5\\data\\images\\knife_sample_video2.mp4: 512x416 1 knife, Done. (0.102s)\n",
      "video 1/1 (105/203) C:\\Users\\2020\\yolov5\\data\\images\\knife_sample_video2.mp4: 512x416 1 knife, Done. (0.106s)\n",
      "video 1/1 (106/203) C:\\Users\\2020\\yolov5\\data\\images\\knife_sample_video2.mp4: 512x416 1 knife, Done. (0.106s)\n",
      "video 1/1 (107/203) C:\\Users\\2020\\yolov5\\data\\images\\knife_sample_video2.mp4: 512x416 1 knife, Done. (0.147s)\n",
      "video 1/1 (108/203) C:\\Users\\2020\\yolov5\\data\\images\\knife_sample_video2.mp4: 512x416 Done. (0.119s)\n",
      "video 1/1 (109/203) C:\\Users\\2020\\yolov5\\data\\images\\knife_sample_video2.mp4: 512x416 Done. (0.105s)\n",
      "video 1/1 (110/203) C:\\Users\\2020\\yolov5\\data\\images\\knife_sample_video2.mp4: 512x416 Done. (0.108s)\n",
      "video 1/1 (111/203) C:\\Users\\2020\\yolov5\\data\\images\\knife_sample_video2.mp4: 512x416 Done. (0.124s)\n",
      "video 1/1 (112/203) C:\\Users\\2020\\yolov5\\data\\images\\knife_sample_video2.mp4: 512x416 Done. (0.105s)\n",
      "video 1/1 (113/203) C:\\Users\\2020\\yolov5\\data\\images\\knife_sample_video2.mp4: 512x416 Done. (0.109s)\n",
      "video 1/1 (114/203) C:\\Users\\2020\\yolov5\\data\\images\\knife_sample_video2.mp4: 512x416 1 knife, Done. (0.122s)\n",
      "video 1/1 (115/203) C:\\Users\\2020\\yolov5\\data\\images\\knife_sample_video2.mp4: 512x416 1 knife, Done. (0.109s)\n",
      "video 1/1 (116/203) C:\\Users\\2020\\yolov5\\data\\images\\knife_sample_video2.mp4: 512x416 1 knife, Done. (0.105s)\n",
      "video 1/1 (117/203) C:\\Users\\2020\\yolov5\\data\\images\\knife_sample_video2.mp4: 512x416 1 knife, Done. (0.115s)\n",
      "video 1/1 (118/203) C:\\Users\\2020\\yolov5\\data\\images\\knife_sample_video2.mp4: 512x416 1 knife, Done. (0.108s)\n",
      "video 1/1 (119/203) C:\\Users\\2020\\yolov5\\data\\images\\knife_sample_video2.mp4: 512x416 1 knife, Done. (0.106s)\n",
      "video 1/1 (120/203) C:\\Users\\2020\\yolov5\\data\\images\\knife_sample_video2.mp4: 512x416 1 knife, Done. (0.104s)\n",
      "video 1/1 (121/203) C:\\Users\\2020\\yolov5\\data\\images\\knife_sample_video2.mp4: 512x416 1 knife, Done. (0.110s)\n",
      "video 1/1 (122/203) C:\\Users\\2020\\yolov5\\data\\images\\knife_sample_video2.mp4: 512x416 1 knife, Done. (0.114s)\n",
      "video 1/1 (123/203) C:\\Users\\2020\\yolov5\\data\\images\\knife_sample_video2.mp4: 512x416 1 knife, Done. (0.107s)\n",
      "video 1/1 (124/203) C:\\Users\\2020\\yolov5\\data\\images\\knife_sample_video2.mp4: 512x416 1 knife, Done. (0.107s)\n",
      "video 1/1 (125/203) C:\\Users\\2020\\yolov5\\data\\images\\knife_sample_video2.mp4: 512x416 1 knife, Done. (0.104s)\n",
      "video 1/1 (126/203) C:\\Users\\2020\\yolov5\\data\\images\\knife_sample_video2.mp4: 512x416 1 knife, Done. (0.102s)\n",
      "video 1/1 (127/203) C:\\Users\\2020\\yolov5\\data\\images\\knife_sample_video2.mp4: 512x416 1 knife, Done. (0.104s)\n",
      "video 1/1 (128/203) C:\\Users\\2020\\yolov5\\data\\images\\knife_sample_video2.mp4: 512x416 1 knife, Done. (0.102s)\n",
      "video 1/1 (129/203) C:\\Users\\2020\\yolov5\\data\\images\\knife_sample_video2.mp4: 512x416 1 knife, Done. (0.110s)\n",
      "video 1/1 (130/203) C:\\Users\\2020\\yolov5\\data\\images\\knife_sample_video2.mp4: 512x416 1 knife, Done. (0.112s)\n",
      "video 1/1 (131/203) C:\\Users\\2020\\yolov5\\data\\images\\knife_sample_video2.mp4: 512x416 1 knife, Done. (0.107s)\n",
      "video 1/1 (132/203) C:\\Users\\2020\\yolov5\\data\\images\\knife_sample_video2.mp4: 512x416 1 knife, Done. (0.105s)\n",
      "video 1/1 (133/203) C:\\Users\\2020\\yolov5\\data\\images\\knife_sample_video2.mp4: 512x416 1 knife, Done. (0.104s)\n",
      "video 1/1 (134/203) C:\\Users\\2020\\yolov5\\data\\images\\knife_sample_video2.mp4: 512x416 Done. (0.117s)\n",
      "video 1/1 (135/203) C:\\Users\\2020\\yolov5\\data\\images\\knife_sample_video2.mp4: 512x416 Done. (0.108s)\n",
      "video 1/1 (136/203) C:\\Users\\2020\\yolov5\\data\\images\\knife_sample_video2.mp4: 512x416 Done. (0.103s)\n",
      "video 1/1 (137/203) C:\\Users\\2020\\yolov5\\data\\images\\knife_sample_video2.mp4: 512x416 Done. (0.181s)\n",
      "video 1/1 (138/203) C:\\Users\\2020\\yolov5\\data\\images\\knife_sample_video2.mp4: 512x416 Done. (0.124s)\n",
      "video 1/1 (139/203) C:\\Users\\2020\\yolov5\\data\\images\\knife_sample_video2.mp4: 512x416 Done. (0.115s)\n",
      "video 1/1 (140/203) C:\\Users\\2020\\yolov5\\data\\images\\knife_sample_video2.mp4: 512x416 Done. (0.114s)\n",
      "video 1/1 (141/203) C:\\Users\\2020\\yolov5\\data\\images\\knife_sample_video2.mp4: 512x416 Done. (0.116s)\n",
      "video 1/1 (142/203) C:\\Users\\2020\\yolov5\\data\\images\\knife_sample_video2.mp4: 512x416 Done. (0.123s)\n",
      "video 1/1 (143/203) C:\\Users\\2020\\yolov5\\data\\images\\knife_sample_video2.mp4: 512x416 Done. (0.128s)\n",
      "video 1/1 (144/203) C:\\Users\\2020\\yolov5\\data\\images\\knife_sample_video2.mp4: 512x416 1 knife, Done. (0.109s)\n",
      "video 1/1 (145/203) C:\\Users\\2020\\yolov5\\data\\images\\knife_sample_video2.mp4: 512x416 1 knife, Done. (0.117s)\n",
      "video 1/1 (146/203) C:\\Users\\2020\\yolov5\\data\\images\\knife_sample_video2.mp4: 512x416 1 knife, Done. (0.122s)\n",
      "video 1/1 (147/203) C:\\Users\\2020\\yolov5\\data\\images\\knife_sample_video2.mp4: 512x416 1 knife, Done. (0.150s)\n",
      "video 1/1 (148/203) C:\\Users\\2020\\yolov5\\data\\images\\knife_sample_video2.mp4: 512x416 1 knife, Done. (0.117s)\n",
      "video 1/1 (149/203) C:\\Users\\2020\\yolov5\\data\\images\\knife_sample_video2.mp4: 512x416 1 knife, Done. (0.119s)\n",
      "video 1/1 (150/203) C:\\Users\\2020\\yolov5\\data\\images\\knife_sample_video2.mp4: 512x416 1 knife, Done. (0.115s)\n",
      "video 1/1 (151/203) C:\\Users\\2020\\yolov5\\data\\images\\knife_sample_video2.mp4: 512x416 1 knife, Done. (0.114s)\n",
      "video 1/1 (152/203) C:\\Users\\2020\\yolov5\\data\\images\\knife_sample_video2.mp4: 512x416 1 knife, Done. (0.117s)\n",
      "video 1/1 (153/203) C:\\Users\\2020\\yolov5\\data\\images\\knife_sample_video2.mp4: 512x416 1 knife, Done. (0.107s)\n",
      "video 1/1 (154/203) C:\\Users\\2020\\yolov5\\data\\images\\knife_sample_video2.mp4: 512x416 1 knife, Done. (0.120s)\n",
      "video 1/1 (155/203) C:\\Users\\2020\\yolov5\\data\\images\\knife_sample_video2.mp4: 512x416 1 knife, Done. (0.114s)\n",
      "video 1/1 (156/203) C:\\Users\\2020\\yolov5\\data\\images\\knife_sample_video2.mp4: 512x416 1 knife, Done. (0.116s)\n",
      "video 1/1 (157/203) C:\\Users\\2020\\yolov5\\data\\images\\knife_sample_video2.mp4: 512x416 1 knife, Done. (0.117s)\n",
      "video 1/1 (158/203) C:\\Users\\2020\\yolov5\\data\\images\\knife_sample_video2.mp4: 512x416 1 knife, Done. (0.116s)\n",
      "video 1/1 (159/203) C:\\Users\\2020\\yolov5\\data\\images\\knife_sample_video2.mp4: 512x416 1 knife, Done. (0.112s)\n",
      "video 1/1 (160/203) C:\\Users\\2020\\yolov5\\data\\images\\knife_sample_video2.mp4: 512x416 1 knife, Done. (0.113s)\n",
      "video 1/1 (161/203) C:\\Users\\2020\\yolov5\\data\\images\\knife_sample_video2.mp4: 512x416 1 knife, Done. (0.119s)\n",
      "video 1/1 (162/203) C:\\Users\\2020\\yolov5\\data\\images\\knife_sample_video2.mp4: 512x416 1 knife, Done. (0.119s)\n",
      "video 1/1 (163/203) C:\\Users\\2020\\yolov5\\data\\images\\knife_sample_video2.mp4: 512x416 1 knife, Done. (0.110s)\n",
      "video 1/1 (164/203) C:\\Users\\2020\\yolov5\\data\\images\\knife_sample_video2.mp4: 512x416 1 knife, Done. (0.108s)\n",
      "video 1/1 (165/203) C:\\Users\\2020\\yolov5\\data\\images\\knife_sample_video2.mp4: 512x416 1 knife, Done. (0.112s)\n",
      "video 1/1 (166/203) C:\\Users\\2020\\yolov5\\data\\images\\knife_sample_video2.mp4: 512x416 1 knife, Done. (0.127s)\n",
      "video 1/1 (167/203) C:\\Users\\2020\\yolov5\\data\\images\\knife_sample_video2.mp4: 512x416 1 knife, Done. (0.117s)\n",
      "video 1/1 (168/203) C:\\Users\\2020\\yolov5\\data\\images\\knife_sample_video2.mp4: 512x416 Done. (0.114s)\n",
      "video 1/1 (169/203) C:\\Users\\2020\\yolov5\\data\\images\\knife_sample_video2.mp4: 512x416 Done. (0.108s)\n",
      "video 1/1 (170/203) C:\\Users\\2020\\yolov5\\data\\images\\knife_sample_video2.mp4: 512x416 Done. (0.111s)\n",
      "video 1/1 (171/203) C:\\Users\\2020\\yolov5\\data\\images\\knife_sample_video2.mp4: 512x416 Done. (0.103s)\n",
      "video 1/1 (172/203) C:\\Users\\2020\\yolov5\\data\\images\\knife_sample_video2.mp4: 512x416 Done. (0.112s)\n",
      "video 1/1 (173/203) C:\\Users\\2020\\yolov5\\data\\images\\knife_sample_video2.mp4: 512x416 Done. (0.111s)\n",
      "video 1/1 (174/203) C:\\Users\\2020\\yolov5\\data\\images\\knife_sample_video2.mp4: 512x416 Done. (0.102s)\n",
      "video 1/1 (175/203) C:\\Users\\2020\\yolov5\\data\\images\\knife_sample_video2.mp4: 512x416 Done. (0.110s)\n",
      "video 1/1 (176/203) C:\\Users\\2020\\yolov5\\data\\images\\knife_sample_video2.mp4: 512x416 Done. (0.129s)\n",
      "video 1/1 (177/203) C:\\Users\\2020\\yolov5\\data\\images\\knife_sample_video2.mp4: 512x416 Done. (0.109s)\n",
      "video 1/1 (178/203) C:\\Users\\2020\\yolov5\\data\\images\\knife_sample_video2.mp4: 512x416 Done. (0.115s)\n",
      "video 1/1 (179/203) C:\\Users\\2020\\yolov5\\data\\images\\knife_sample_video2.mp4: 512x416 Done. (0.113s)\n",
      "video 1/1 (180/203) C:\\Users\\2020\\yolov5\\data\\images\\knife_sample_video2.mp4: 512x416 Done. (0.115s)\n",
      "video 1/1 (181/203) C:\\Users\\2020\\yolov5\\data\\images\\knife_sample_video2.mp4: 512x416 Done. (0.112s)\n",
      "video 1/1 (182/203) C:\\Users\\2020\\yolov5\\data\\images\\knife_sample_video2.mp4: 512x416 Done. (0.108s)\n",
      "video 1/1 (183/203) C:\\Users\\2020\\yolov5\\data\\images\\knife_sample_video2.mp4: 512x416 1 knife, Done. (0.128s)\n",
      "video 1/1 (184/203) C:\\Users\\2020\\yolov5\\data\\images\\knife_sample_video2.mp4: 512x416 1 knife, Done. (0.116s)\n",
      "video 1/1 (185/203) C:\\Users\\2020\\yolov5\\data\\images\\knife_sample_video2.mp4: 512x416 1 knife, Done. (0.117s)\n",
      "video 1/1 (186/203) C:\\Users\\2020\\yolov5\\data\\images\\knife_sample_video2.mp4: 512x416 1 knife, Done. (0.147s)\n",
      "video 1/1 (187/203) C:\\Users\\2020\\yolov5\\data\\images\\knife_sample_video2.mp4: 512x416 1 knife, Done. (0.123s)\n",
      "video 1/1 (188/203) C:\\Users\\2020\\yolov5\\data\\images\\knife_sample_video2.mp4: 512x416 1 knife, Done. (0.142s)\n",
      "video 1/1 (189/203) C:\\Users\\2020\\yolov5\\data\\images\\knife_sample_video2.mp4: 512x416 1 knife, Done. (0.131s)\n",
      "video 1/1 (190/203) C:\\Users\\2020\\yolov5\\data\\images\\knife_sample_video2.mp4: 512x416 1 knife, Done. (0.118s)\n",
      "video 1/1 (191/203) C:\\Users\\2020\\yolov5\\data\\images\\knife_sample_video2.mp4: 512x416 1 knife, Done. (0.108s)\n",
      "video 1/1 (192/203) C:\\Users\\2020\\yolov5\\data\\images\\knife_sample_video2.mp4: 512x416 1 knife, Done. (0.108s)\n",
      "video 1/1 (193/203) C:\\Users\\2020\\yolov5\\data\\images\\knife_sample_video2.mp4: 512x416 1 knife, Done. (0.104s)\n",
      "video 1/1 (194/203) C:\\Users\\2020\\yolov5\\data\\images\\knife_sample_video2.mp4: 512x416 1 knife, Done. (0.112s)\n",
      "video 1/1 (195/203) C:\\Users\\2020\\yolov5\\data\\images\\knife_sample_video2.mp4: 512x416 1 knife, Done. (0.121s)\n",
      "video 1/1 (196/203) C:\\Users\\2020\\yolov5\\data\\images\\knife_sample_video2.mp4: 512x416 1 knife, Done. (0.116s)\n",
      "video 1/1 (197/203) C:\\Users\\2020\\yolov5\\data\\images\\knife_sample_video2.mp4: 512x416 1 knife, Done. (0.115s)\n",
      "video 1/1 (198/203) C:\\Users\\2020\\yolov5\\data\\images\\knife_sample_video2.mp4: 512x416 1 knife, Done. (0.113s)\n",
      "video 1/1 (199/203) C:\\Users\\2020\\yolov5\\data\\images\\knife_sample_video2.mp4: 512x416 1 knife, Done. (0.128s)\n",
      "video 1/1 (200/203) C:\\Users\\2020\\yolov5\\data\\images\\knife_sample_video2.mp4: 512x416 1 knife, Done. (0.136s)\n",
      "video 1/1 (201/203) C:\\Users\\2020\\yolov5\\data\\images\\knife_sample_video2.mp4: 512x416 1 knife, Done. (0.114s)\n",
      "video 1/1 (202/203) C:\\Users\\2020\\yolov5\\data\\images\\knife_sample_video2.mp4: 512x416 Done. (0.158s)\n",
      "video 1/1 (203/203) C:\\Users\\2020\\yolov5\\data\\images\\knife_sample_video2.mp4: 512x416 Done. (0.111s)\n",
      "Speed: 0.6ms pre-process, 113.7ms inference, 0.5ms NMS per image at shape (1, 3, 512, 512)\n",
      "Results saved to \u001b[1mruns\\detect\\exp9\u001b[0m\n"
     ]
    }
   ],
   "source": [
    "!python detect.py --weights C:\\Users\\2020\\yolov5\\best.pt --img 512 --conf 0.1 --source C:\\Users\\2020\\yolov5\\data\\images\\knife_sample_video2.mp4"
   ]
  },
  {
   "cell_type": "code",
   "execution_count": 9,
   "id": "2b81230f",
   "metadata": {},
   "outputs": [
    {
     "name": "stdout",
     "output_type": "stream",
     "text": [
      "3 knife \r\n",
      "173 1071 955 1411 0 \r\n",
      "335 201 675 755 0 \r\n",
      "495 12 918 1196 0 \r\n"
     ]
    }
   ],
   "source": [
    "!cat ./runs/detect/exp28/KakaoTalk_20211112_170828797_01.txt"
   ]
  }
 ],
 "metadata": {
  "kernelspec": {
   "display_name": "Python 3",
   "language": "python",
   "name": "python3"
  },
  "language_info": {
   "codemirror_mode": {
    "name": "ipython",
    "version": 3
   },
   "file_extension": ".py",
   "mimetype": "text/x-python",
   "name": "python",
   "nbconvert_exporter": "python",
   "pygments_lexer": "ipython3",
   "version": "3.8.8"
  }
 },
 "nbformat": 4,
 "nbformat_minor": 5
}
