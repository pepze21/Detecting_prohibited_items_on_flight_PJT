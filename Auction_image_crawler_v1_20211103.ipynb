{
 "cells": [
  {
   "cell_type": "code",
   "execution_count": 50,
   "id": "88beeb62",
   "metadata": {},
   "outputs": [
    {
     "name": "stdout",
     "output_type": "stream",
     "text": [
      "1page의 모든 item_url을 얻었습니다.\n",
      "1page의 모든 원본 img_url142개를 얻었습니다.\n",
      "헤어+스프레이images 141개를 저장했습니다.\n"
     ]
    }
   ],
   "source": [
    "# auction image crawler v1_20211103\n",
    "from selenium import webdriver\n",
    "from selenium.webdriver.common.keys import Keys\n",
    "from bs4 import BeautifulSoup\n",
    "import pandas as pd\n",
    "import time\n",
    "import os\n",
    "import requests\n",
    "\n",
    "## variables\n",
    "\n",
    "item_url_set = set()\n",
    "img_url_set = set() # 빈 집합 생성\n",
    "\n",
    "## functions\n",
    "\n",
    "def add_item_url():\n",
    "    global item_url_set\n",
    "    html = driver.page_source\n",
    "    soup = BeautifulSoup(html, 'lxml')\n",
    "    a_tags = soup.select('a.link--itemcard')\n",
    "    for a_tag in a_tags:\n",
    "        item_url_set.add(a_tag['href'])\n",
    "\n",
    "def add_img_url():\n",
    "    global item_url_set\n",
    "    global img_url_set\n",
    "    for item_url in item_url_set:\n",
    "        driver.get(item_url)\n",
    "        html = driver.page_source\n",
    "        soup = BeautifulSoup(html, 'lxml')\n",
    "        img_tags = soup.select('div.box__viewer-container img')\n",
    "        for img_tag in img_tags:\n",
    "            img_url_set.add('http:' + img_tag['src'])\n",
    "\n",
    "def download_img(img_folder, img_url):\n",
    "    html_img = requests.get(img_url)\n",
    "    imgFile = open(os.path.join(img_folder, os.path.basename(img_url)[:15] + '.jpg'), 'wb')        \n",
    "    chunk_size = 1000000\n",
    "    for chunk in html_img.iter_content(chunk_size):\n",
    "        imgFile.write(chunk)\n",
    "    imgFile.close()\n",
    "\n",
    "def make_folder(keyword):\n",
    "    img_folder = \"C:\\\\Users\\\\2020\\\\crawling_images\\\\{}\".format(keyword)\n",
    "    if not os.path.exists(img_folder):\n",
    "        os.makedirs(img_folder)\n",
    "    return img_folder\n",
    "\n",
    "def main(keyword, max_page):\n",
    "    global item_url_set\n",
    "    global img_url_set\n",
    "\n",
    "    for page in range(1, max_page+1):\n",
    "\n",
    "        item_url_set = set()\n",
    "        img_url_set = set()\n",
    "\n",
    "        driver.get('https://browse.auction.co.kr/search?keyword=' + keyword + '&k=32&p=' + str(page))\n",
    "        time.sleep(5)\n",
    "\n",
    "        add_item_url()\n",
    "        print(str(page) + 'page의 모든 item_url을 얻었습니다.')\n",
    "        time.sleep(3)\n",
    "        img_folder = make_folder(keyword)\n",
    "\n",
    "        add_img_url()\n",
    "        print(str(page) + 'page까지 원본 img_url ' + str(len(img_url_set)) + '개를 얻었습니다.')\n",
    "    \n",
    "    img_url_set.discard('http://image.auction.co.kr/hanbando/202110/a3677c93-a39a-49ee-b2e5-aa9658e0e2c7.png')\n",
    "    for img_url in img_url_set:\n",
    "        download_img(img_folder, img_url)\n",
    "        time.sleep(1)\n",
    "\n",
    "    print(keyword + 'images {}개를 저장했습니다.'.format(len(img_url_set)))\n",
    "\n",
    "## main\n",
    "driver = webdriver.Chrome('C:\\\\Users\\\\2020\\\\chromedriver\\\\chromedriver.exe')\n",
    "driver.set_window_size(1700, 1000)\n",
    "\n",
    "if __name__ == \"__main__\":\n",
    "    main('헤어+스프레이', 1)\n",
    "\n"
   ]
  }
 ],
 "metadata": {
  "interpreter": {
   "hash": "b3ba2566441a7c06988d0923437866b63cedc61552a5af99d1f4fb67d367b25f"
  },
  "kernelspec": {
   "display_name": "Python 3.8.8 64-bit ('base': conda)",
   "name": "python3"
  },
  "language_info": {
   "codemirror_mode": {
    "name": "ipython",
    "version": 3
   },
   "file_extension": ".py",
   "mimetype": "text/x-python",
   "name": "python",
   "nbconvert_exporter": "python",
   "pygments_lexer": "ipython3",
   "version": "3.8.8"
  }
 },
 "nbformat": 4,
 "nbformat_minor": 5
}
